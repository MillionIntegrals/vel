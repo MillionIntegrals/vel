{
 "cells": [
  {
   "cell_type": "code",
   "execution_count": 7,
   "metadata": {
    "collapsed": true
   },
   "outputs": [],
   "source": [
    "# Put these at the top of every notebook, to get automatic reloading and inline plotting\n",
    "%reload_ext autoreload\n",
    "%autoreload 2\n",
    "%matplotlib inline"
   ]
  },
  {
   "cell_type": "code",
   "execution_count": 1,
   "metadata": {},
   "outputs": [
    {
     "name": "stdout",
     "output_type": "stream",
     "text": [
      "Adding /mnt/fast-data/repos/waterboy to the PYTHONPATH\n"
     ]
    }
   ],
   "source": [
    "# Initialize pythonpath to include waterboy. I don't know the way how to walk around this in other way\n",
    "import os.path\n",
    "import sys\n",
    "\n",
    "path = os.path.abspath('.')\n",
    "\n",
    "while True:\n",
    "        \n",
    "    if os.path.basename(path) == 'waterboy':\n",
    "        if path not in sys.path:\n",
    "            print(f'Adding {path} to the PYTHONPATH')\n",
    "            sys.path.append(path)\n",
    "        break\n",
    "    else:\n",
    "        up_path = os.path.realpath(os.path.join(path, '..'))\n",
    "        if path == up_path:\n",
    "            break\n",
    "        else:\n",
    "            path = up_path                "
   ]
  },
  {
   "cell_type": "code",
   "execution_count": 2,
   "metadata": {
    "collapsed": true
   },
   "outputs": [],
   "source": [
    "import waterboy.notebook as nb"
   ]
  },
  {
   "cell_type": "code",
   "execution_count": 3,
   "metadata": {},
   "outputs": [
    {
     "data": {
      "text/plain": [
       "<module 'waterboy.notebook' from '/mnt/fast-data/repos/waterboy/waterboy/notebook/__init__.py'>"
      ]
     },
     "execution_count": 3,
     "metadata": {},
     "output_type": "execute_result"
    }
   ],
   "source": [
    "import importlib\n",
    "importlib.reload(nb)"
   ]
  },
  {
   "cell_type": "code",
   "execution_count": 4,
   "metadata": {
    "collapsed": true
   },
   "outputs": [],
   "source": [
    "model_config = nb.load(\"../../examples/classification/mnist/mnist_cnn_01.yaml\")"
   ]
  },
  {
   "cell_type": "code",
   "execution_count": 5,
   "metadata": {},
   "outputs": [
    {
     "data": {
      "text/plain": [
       "<ModelConfig at ../../examples/classification/mnist/mnist_cnn_01.yaml"
      ]
     },
     "execution_count": 5,
     "metadata": {},
     "output_type": "execute_result"
    }
   ],
   "source": [
    "model_config"
   ]
  },
  {
   "cell_type": "code",
   "execution_count": 6,
   "metadata": {},
   "outputs": [
    {
     "data": {
      "text/plain": [
       "<module 'waterboy.internals.model_config' from '/mnt/fast-data/repos/waterboy/waterboy/internals/model_config.py'>"
      ]
     },
     "execution_count": 6,
     "metadata": {},
     "output_type": "execute_result"
    }
   ],
   "source": [
    "import waterboy.internals.model_config\n",
    "importlib.reload(waterboy.internals.model_config)"
   ]
  }
 ],
 "metadata": {
  "kernelspec": {
   "display_name": "waterboy",
   "language": "python",
   "name": "waterboy"
  },
  "language_info": {
   "codemirror_mode": {
    "name": "ipython",
    "version": 3
   },
   "file_extension": ".py",
   "mimetype": "text/x-python",
   "name": "python",
   "nbconvert_exporter": "python",
   "pygments_lexer": "ipython3",
   "version": "3.6.5"
  }
 },
 "nbformat": 4,
 "nbformat_minor": 2
}
