{
 "cells": [
  {
   "cell_type": "code",
   "execution_count": 25,
   "metadata": {},
   "outputs": [],
   "source": [
    "import os\n",
    "import torch\n",
    "import tqdm\n",
    "import numpy as np\n",
    "import matplotlib.pyplot as plt"
   ]
  },
  {
   "cell_type": "code",
   "execution_count": 26,
   "metadata": {},
   "outputs": [],
   "source": [
    "import vel\n",
    "import vel.notebook as nb"
   ]
  },
  {
   "cell_type": "code",
   "execution_count": 27,
   "metadata": {},
   "outputs": [],
   "source": [
    "nb.reasonable_notbook_defaults()\n",
    "torch.set_grad_enabled(False)  # We don't need autograd here\n",
    "None"
   ]
  },
  {
   "cell_type": "code",
   "execution_count": 28,
   "metadata": {},
   "outputs": [],
   "source": [
    "config = nb.load_config('examples-configs/latent/mnist/mnist_cnn_vq_vae.yaml', run_number=13, device='cuda:0') "
   ]
  },
  {
   "cell_type": "code",
   "execution_count": 29,
   "metadata": {},
   "outputs": [],
   "source": [
    "model = config.load_trained_model().to(config.device)"
   ]
  },
  {
   "cell_type": "code",
   "execution_count": 30,
   "metadata": {},
   "outputs": [
    {
     "name": "stdout",
     "output_type": "stream",
     "text": [
      "VQVAE(\n",
      "  (codebook): VQEmbedding(k=128, d=64)\n",
      "  (encoder): Sequential(\n",
      "    (0): Conv2d(1, 64, kernel_size=(3, 3), stride=(1, 1), padding=(1, 1))\n",
      "    (1): SELU(inplace=True)\n",
      "    (2): LayerNorm((64, 28, 28), eps=1e-05, elementwise_affine=True)\n",
      "    (3): Conv2d(64, 128, kernel_size=(3, 3), stride=(2, 2), padding=(1, 1))\n",
      "    (4): SELU(inplace=True)\n",
      "    (5): LayerNorm((128, 14, 14), eps=1e-05, elementwise_affine=True)\n",
      "    (6): Conv2d(128, 256, kernel_size=(3, 3), stride=(2, 2), padding=(1, 1))\n",
      "    (7): SELU(inplace=True)\n",
      "    (8): LayerNorm((256, 7, 7), eps=1e-05, elementwise_affine=True)\n",
      "    (9): Conv2d(256, 64, kernel_size=(3, 3), stride=(1, 1), padding=(1, 1))\n",
      "    (10): SELU(inplace=True)\n",
      "    (11): LayerNorm((64, 7, 7), eps=1e-05, elementwise_affine=True)\n",
      "  )\n",
      "  (decoder): Sequential(\n",
      "    (0): ConvTranspose2d(64, 256, kernel_size=(3, 3), stride=(1, 1), padding=(1, 1))\n",
      "    (1): SELU(inplace=True)\n",
      "    (2): LayerNorm((256, 7, 7), eps=1e-05, elementwise_affine=True)\n",
      "    (3): ConvTranspose2d(256, 128, kernel_size=(3, 3), stride=(2, 2), padding=(1, 1), output_padding=(1, 1))\n",
      "    (4): SELU(inplace=True)\n",
      "    (5): LayerNorm((128, 14, 14), eps=1e-05, elementwise_affine=True)\n",
      "    (6): ConvTranspose2d(128, 64, kernel_size=(3, 3), stride=(2, 2), padding=(1, 1), output_padding=(1, 1))\n",
      "    (7): SELU(inplace=True)\n",
      "    (8): LayerNorm((64, 28, 28), eps=1e-05, elementwise_affine=True)\n",
      "    (9): ConvTranspose2d(64, 1, kernel_size=(3, 3), stride=(1, 1), padding=(1, 1))\n",
      "    (10): Sigmoid()\n",
      "  )\n",
      ")\n",
      "----------------------------------------------------------------------------------------------------\n",
      "Number of model parameters: 1,400,001\n",
      "----------------------------------------------------------------------------------------------------\n"
     ]
    }
   ],
   "source": [
    "model.summary()"
   ]
  },
  {
   "cell_type": "code",
   "execution_count": 31,
   "metadata": {},
   "outputs": [],
   "source": [
    "data_loader = config.provide('loader')\n",
    "data_source = data_loader.transformed_source\n",
    "train_dataset = data_source.train\n",
    "validation_dataset = data_source.validation"
   ]
  },
  {
   "cell_type": "code",
   "execution_count": 32,
   "metadata": {},
   "outputs": [],
   "source": [
    "def get_sample(idx):\n",
    "    return train_dataset[idx]['x'].to(config.device)"
   ]
  },
  {
   "cell_type": "code",
   "execution_count": 33,
   "metadata": {},
   "outputs": [],
   "source": [
    "def show_image(axis, sample):\n",
    "    axis.imshow(train_dataset.denormalize_item(sample, 'x'), cmap='gray')"
   ]
  },
  {
   "cell_type": "code",
   "execution_count": 34,
   "metadata": {},
   "outputs": [
    {
     "data": {
      "image/png": "[encoded data removed]",
      "text/plain": [
       "<Figure size 1080x576 with 5 Axes>"
      ]
     },
     "metadata": {
      "needs_background": "light"
     },
     "output_type": "display_data"
    }
   ],
   "source": [
    "# Browse examples\n",
    "fig, axes = plt.subplots(1, 5)\n",
    "\n",
    "for index in range(5):\n",
    "    show_image(axes[index], get_sample(index).cpu())"
   ]
  },
  {
   "cell_type": "code",
   "execution_count": 35,
   "metadata": {},
   "outputs": [
    {
     "name": "stdout",
     "output_type": "stream",
     "text": [
      "tensor([[[ 23,  23,  23,  23,  23,  23,  23],\n",
      "         [ 23,  64,  88, 106,   4, 121,  29],\n",
      "         [ 23,  70, 114,  51,  31,  12,  12],\n",
      "         [ 23,  23,  46, 117,  22,  23,  23],\n",
      "         [ 23,  23,  23,  70, 114, 104,  23],\n",
      "         [ 23,  22,   4,  65, 116,  29,  23],\n",
      "         [ 99, 116,  51, 110,  23,  23,  23]]], device='cuda:0')\n",
      "torch.Size([1, 7, 7])\n"
     ]
    }
   ],
   "source": [
    "x = model.encode(get_sample(0)[None])\n",
    "print(x)\n",
    "print(x.shape)"
   ]
  },
  {
   "cell_type": "code",
   "execution_count": 36,
   "metadata": {},
   "outputs": [
    {
     "data": {
      "image/png": "[encoded data removed]",
      "text/plain": [
       "<Figure size 1080x576 with 10 Axes>"
      ]
     },
     "metadata": {
      "needs_background": "light"
     },
     "output_type": "display_data"
    }
   ],
   "source": [
    "# Browse examples\n",
    "fig, axes = plt.subplots(2, 5)\n",
    "\n",
    "for index in range(5):\n",
    "    sample = get_sample(index)\n",
    "    decoded = model(sample[None])[0].detach()\n",
    "    show_image(axes[0, index], sample.cpu())\n",
    "    show_image(axes[1, index], decoded.cpu())"
   ]
  }
 ],
 "metadata": {
  "kernelspec": {
   "display_name": "vel",
   "language": "python",
   "name": "vel"
  },
  "language_info": {
   "codemirror_mode": {
    "name": "ipython",
    "version": 3
   },
   "file_extension": ".py",
   "mimetype": "text/x-python",
   "name": "python",
   "nbconvert_exporter": "python",
   "pygments_lexer": "ipython3",
   "version": "3.7.3"
  }
 },
 "nbformat": 4,
 "nbformat_minor": 2
}
